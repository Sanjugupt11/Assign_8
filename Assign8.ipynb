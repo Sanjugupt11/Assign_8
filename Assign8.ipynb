{
 "cells": [
  {
   "cell_type": "code",
   "execution_count": 21,
   "id": "c8bebcab-bcc1-4b27-9dba-7d1ef8be3380",
   "metadata": {},
   "outputs": [
    {
     "data": {
      "text/plain": [
       "'Q1. You are writing code for a company. The requirement of the company is that you create a python\\nfunction that will check whether the password entered by the user is correct or not. The function should\\ntake the password as input and return the string “Valid Password” if the entered password follows the\\nbelow-given password guidelines else it should return “Invalid Password”.\\nNote: 1. The Password should contain at least two uppercase letters and at least two lowercase letters.\\n2. The Password should contain at least a number and three special characters.\\n3. The length of the password should be 10 characters long.]'"
      ]
     },
     "execution_count": 21,
     "metadata": {},
     "output_type": "execute_result"
    }
   ],
   "source": [
    "Q1. You are writing code for a company. The requirement of the company is that you create a python\n",
    "function that will check whether the password entered by the user is correct or not. The function should\n",
    "take the password as input and return the string “Valid Password” if the entered password follows the\n",
    "below-given password guidelines else it should return “Invalid Password”.\n",
    "Note: 1. The Password should contain at least two uppercase letters and at least two lowercase letters.\n",
    "2. The Password should contain at least a number and three special characters.\n",
    "3. The length of the password should be 10 characters long.]\n",
    "\n",
    "\n",
    "    "
   ]
  },
  {
   "cell_type": "code",
   "execution_count": 20,
   "id": "63c550f3-c710-44aa-9e5d-89a48ba6d567",
   "metadata": {},
   "outputs": [
    {
     "name": "stdout",
     "output_type": "stream",
     "text": [
      "Note:\n",
      "1. The Password should contain at least two uppercase letters and at least two lowercase letters.\n",
      "2. The Password should contain at least a number and three special characters.\n",
      "3. The length of the password should be 10 characters long.\n"
     ]
    },
    {
     "name": "stdin",
     "output_type": "stream",
     "text": [
      "Enter a character AksmmmL@22\n"
     ]
    },
    {
     "name": "stdout",
     "output_type": "stream",
     "text": [
      "Valid Password\n"
     ]
    }
   ],
   "source": [
    "l, u, p, d = 0, 0, 0, 0\n",
    "print(\"Note:\")\n",
    "print(\"1. The Password should contain at least two uppercase letters and at least two lowercase letters.\")\n",
    "print(\"2. The Password should contain at least a number and three special characters.\")\n",
    "print(\"3. The length of the password should be 10 characters long.\")\n",
    "s = input(\"Enter a character\")\n",
    "\n",
    "if (len(s) >= 8):\n",
    "    for i in s:\n",
    " \n",
    "        # counting lowercase alphabets\n",
    "        if (i.islower()):\n",
    "            l+=1           \n",
    " \n",
    "        # counting uppercase alphabets\n",
    "        if (i.isupper()):\n",
    "            u+=1           \n",
    " \n",
    "        # counting digits\n",
    "        if (i.isdigit()):\n",
    "            d+=1           \n",
    " \n",
    "        # counting the mentioned special characters\n",
    "        if(i=='@'or i=='$' or i=='_'):\n",
    "            p+=1          \n",
    "if (l>=1 and u>=1 and p>=1 and d>=1 and l+p+u+d==len(s)):\n",
    "    print(\"Valid Password\")\n",
    "else:\n",
    "    print(\"Invalid Password\")\n"
   ]
  },
  {
   "cell_type": "code",
   "execution_count": null,
   "id": "4003b552-2bb6-47dc-9f18-27522838690f",
   "metadata": {},
   "outputs": [],
   "source": [
    "Q2. Solve the below-given questions using at least one of the following:\n",
    "1. Lambda function\n",
    "2. Filter function\n",
    "3. Zap function\n",
    "4. List Comprehension\n",
    "Check if the string starts with a particular letter\n",
    "Check if the string is numeric\n",
    "Sort a list of tuples having fruit names and their quantity. [(\"mango\",99),(\"orange\",80), (\"grapes\", 1000)-\n",
    "Find the squares of numbers from 1 to 10Y\n",
    "Find the cube root of numbers from 1 to 10Y\n",
    "Check if a given number is evenY\n",
    "Filter odd numbers from the given list.\n",
    "[1,2,3,4,5,6,7,8,9,10-\n",
    "Sort a list of integers into positive and negative integers lists.\n",
    "[1,2,3,4,5,6,-1,-2,-3,-4,-5,0]"
   ]
  },
  {
   "cell_type": "code",
   "execution_count": 28,
   "id": "7f3b0f61-2d5d-43a8-8409-6cdb3ece52d2",
   "metadata": {},
   "outputs": [
    {
     "data": {
      "text/plain": [
       "[1, 4, 9, 16, 25, 36, 49, 64, 81, 100]"
      ]
     },
     "execution_count": 28,
     "metadata": {},
     "output_type": "execute_result"
    }
   ],
   "source": [
    "#ind the squares of numbers from 1 to 10\n",
    "l=[1, 2, 3, 4, 5, 6, 7, 8, 9, 10]\n",
    "list(map(lambda x:x**2,l))"
   ]
  },
  {
   "cell_type": "code",
   "execution_count": 30,
   "id": "323696d7-44ae-4851-b068-7aed88f1b6ca",
   "metadata": {},
   "outputs": [
    {
     "data": {
      "text/plain": [
       "[1, 8, 27, 64, 125, 216, 343, 512, 729, 1000]"
      ]
     },
     "execution_count": 30,
     "metadata": {},
     "output_type": "execute_result"
    }
   ],
   "source": [
    "#Find the cube root of numbers from 1 to 10\n",
    "l=[1, 2, 3, 4, 5, 6, 7, 8, 9, 10]\n",
    "list(map(lambda x:x*x*x,l))"
   ]
  },
  {
   "cell_type": "code",
   "execution_count": 31,
   "id": "edb668a5-eda8-40f6-bfb1-857bf5c13dfe",
   "metadata": {},
   "outputs": [
    {
     "data": {
      "text/plain": [
       "[2, 4, 6, 8, 10]"
      ]
     },
     "execution_count": 31,
     "metadata": {},
     "output_type": "execute_result"
    }
   ],
   "source": [
    "#Check if a given number is even\n",
    "l=[1, 2, 3, 4, 5, 6, 7, 8, 9, 10]\n",
    "list(filter(lambda x : x%2==0 ,l))"
   ]
  },
  {
   "cell_type": "code",
   "execution_count": 32,
   "id": "7d1d1622-262e-473a-b405-2b4d5e19c644",
   "metadata": {},
   "outputs": [
    {
     "data": {
      "text/plain": [
       "[1, 3, 5, 7, 9]"
      ]
     },
     "execution_count": 32,
     "metadata": {},
     "output_type": "execute_result"
    }
   ],
   "source": [
    "#Filter odd numbers from the given list.\n",
    "l=[1, 2, 3, 4, 5, 6, 7, 8, 9, 10]\n",
    "list(filter(lambda x:x%2==1,l))"
   ]
  },
  {
   "cell_type": "code",
   "execution_count": 7,
   "id": "0424a5c6-5506-4ae8-9cdc-b4f280923c62",
   "metadata": {},
   "outputs": [
    {
     "data": {
      "text/plain": [
       "[-1, -2, -3, -4, -5]"
      ]
     },
     "execution_count": 7,
     "metadata": {},
     "output_type": "execute_result"
    }
   ],
   "source": [
    "#Sort a list of integers into positive and negative integers lists.\n",
    "l=[1,2,3,4,5,6,-1,-2,-3,-4,-5,0]\n",
    "list(filter(lambda x: x<0  ,l))\n"
   ]
  },
  {
   "cell_type": "code",
   "execution_count": 6,
   "id": "bd5a98c1-35ef-4d8d-97d8-ccb23746b532",
   "metadata": {},
   "outputs": [
    {
     "data": {
      "text/plain": [
       "[1, 2, 3, 4, 5, 6]"
      ]
     },
     "execution_count": 6,
     "metadata": {},
     "output_type": "execute_result"
    }
   ],
   "source": [
    "l=[1,2,3,4,5,6,-1,-2,-3,-4,-5,0]\n",
    "list(filter(lambda x: x>0  ,l))"
   ]
  },
  {
   "cell_type": "code",
   "execution_count": 31,
   "id": "95323eac-600c-429c-b2cf-1db0d9ee49d4",
   "metadata": {},
   "outputs": [
    {
     "data": {
      "text/plain": [
       "[]"
      ]
     },
     "execution_count": 31,
     "metadata": {},
     "output_type": "execute_result"
    }
   ],
   "source": [
    "#Check if the string is numeric\n",
    "string = [1234, 5678, \"cherry\", \"kiwi\", \"mango\"]\n",
    "newlist = [x for x in string if type(string) == int]\n",
    "newlist"
   ]
  },
  {
   "cell_type": "code",
   "execution_count": 28,
   "id": "6bee2c79-2d54-4bd2-8c92-dda5294b76e3",
   "metadata": {},
   "outputs": [
    {
     "data": {
      "text/plain": [
       "int"
      ]
     },
     "execution_count": 28,
     "metadata": {},
     "output_type": "execute_result"
    }
   ],
   "source": [
    "a=6\n",
    "type(a)"
   ]
  },
  {
   "cell_type": "code",
   "execution_count": 34,
   "id": "304e645c-d4eb-4db6-94e6-333d32000a65",
   "metadata": {},
   "outputs": [
    {
     "data": {
      "text/plain": [
       "[('orange', 80), ('mango', 99), ('grapes', 1000)]"
      ]
     },
     "execution_count": 34,
     "metadata": {},
     "output_type": "execute_result"
    }
   ],
   "source": [
    "#Sort a list of tuples having fruit names and their quantity. [(\"mango\",99),(\"orange\",80), (\"grapes\", 1000)-\n",
    "A=[(\"mango\",99),(\"orange\",80), (\"grapes\", 1000)]                                                              \n",
    "A.sort(key = lambda x: x[1])    \n",
    "A"
   ]
  },
  {
   "cell_type": "code",
   "execution_count": null,
   "id": "c69e4803-4886-445c-bac0-e7154f1b1029",
   "metadata": {},
   "outputs": [],
   "source": []
  }
 ],
 "metadata": {
  "kernelspec": {
   "display_name": "Python 3 (ipykernel)",
   "language": "python",
   "name": "python3"
  },
  "language_info": {
   "codemirror_mode": {
    "name": "ipython",
    "version": 3
   },
   "file_extension": ".py",
   "mimetype": "text/x-python",
   "name": "python",
   "nbconvert_exporter": "python",
   "pygments_lexer": "ipython3",
   "version": "3.10.8"
  }
 },
 "nbformat": 4,
 "nbformat_minor": 5
}
